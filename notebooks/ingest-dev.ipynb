{
 "cells": [
  {
   "cell_type": "code",
   "execution_count": 1,
   "metadata": {},
   "outputs": [],
   "source": [
    "# import io\n",
    "import docx\n",
    "import os\n",
    "# import pytesseract\n",
    "from tabulate import tabulate\n",
    "from PIL import Image"
   ]
  },
  {
   "cell_type": "code",
   "execution_count": 2,
   "metadata": {},
   "outputs": [],
   "source": [
    "import sys"
   ]
  },
  {
   "cell_type": "code",
   "execution_count": 3,
   "metadata": {},
   "outputs": [],
   "source": [
    "sys.path.insert(0, \"./../\")"
   ]
  },
  {
   "cell_type": "code",
   "execution_count": 4,
   "metadata": {},
   "outputs": [],
   "source": [
    "# doc_path = \"./../documents/尼得科CT变频器推广使用说明.docx\"\n",
    "doc_path = \"./../documents/健鼎机组蒸汽回水pH控制器设计更改事宜.docx\""
   ]
  },
  {
   "cell_type": "code",
   "execution_count": 5,
   "metadata": {},
   "outputs": [],
   "source": [
    "doc = docx.Document(doc_path)"
   ]
  },
  {
   "cell_type": "code",
   "execution_count": 93,
   "metadata": {},
   "outputs": [],
   "source": [
    "def extract_tables(doc):\n",
    "    tables = []\n",
    "    for table in doc.tables:\n",
    "        table_data = []\n",
    "        for row in table.rows:\n",
    "            row_data = []\n",
    "            for cell in row.cells:\n",
    "                cell_text = ''\n",
    "                for paragraph in cell.paragraphs:\n",
    "                    cell_text += paragraph.text\n",
    "                row_data.append(cell_text)\n",
    "            table_data.append(row_data)\n",
    "\n",
    "        tables.append(tabulate(table_data, tablefmt=\"plain\"))\n",
    "    return tables"
   ]
  },
  {
   "cell_type": "code",
   "execution_count": 94,
   "metadata": {},
   "outputs": [],
   "source": [
    "tables = extract_tables(doc)"
   ]
  },
  {
   "cell_type": "code",
   "execution_count": 96,
   "metadata": {},
   "outputs": [],
   "source": [
    "def extract_texts(doc):\n",
    "    texts = []\n",
    "    for p in doc.paragraphs:\n",
    "        texts.append(p.text)\n",
    "    return texts"
   ]
  },
  {
   "cell_type": "code",
   "execution_count": 97,
   "metadata": {},
   "outputs": [],
   "source": [
    "elements = []\n",
    "table_indices = []\n",
    "for index, element in enumerate(doc.element.body):\n",
    "    if element.tag.endswith(\"tbl\"):\n",
    "        table_indices.append(index)\n",
    "    elements.append(element.text)"
   ]
  },
  {
   "cell_type": "code",
   "execution_count": 105,
   "metadata": {},
   "outputs": [
    {
     "ename": "TypeError",
     "evalue": "index() takes at least 1 positional argument (0 given)",
     "output_type": "error",
     "traceback": [
      "\u001b[0;31m---------------------------------------------------------------------------\u001b[0m",
      "\u001b[0;31mTypeError\u001b[0m                                 Traceback (most recent call last)",
      "Cell \u001b[0;32mIn[105], line 1\u001b[0m\n\u001b[0;32m----> 1\u001b[0m \u001b[43melement\u001b[49m\u001b[38;5;241;43m.\u001b[39;49m\u001b[43mindex\u001b[49m\u001b[43m(\u001b[49m\u001b[43m)\u001b[49m\n",
      "File \u001b[0;32msrc/lxml/etree.pyx:1225\u001b[0m, in \u001b[0;36mlxml.etree._Element.index\u001b[0;34m()\u001b[0m\n",
      "\u001b[0;31mTypeError\u001b[0m: index() takes at least 1 positional argument (0 given)"
     ]
    }
   ],
   "source": [
    "element.index()"
   ]
  },
  {
   "cell_type": "code",
   "execution_count": 98,
   "metadata": {},
   "outputs": [],
   "source": [
    "for index, table in enumerate(tables):\n",
    "    table_index = table_indices[index]\n",
    "    elements[table_index] = table"
   ]
  },
  {
   "cell_type": "code",
   "execution_count": 50,
   "metadata": {},
   "outputs": [],
   "source": [
    "elements = [element for element in elements if isinstance(element, str)]"
   ]
  },
  {
   "cell_type": "code",
   "execution_count": 51,
   "metadata": {},
   "outputs": [],
   "source": [
    "def consolidate_elements(elements, sentence_len=120, overlapping_size=2):\n",
    "\n",
    "    final_sentence_list = []\n",
    "    accumulate_len = 0\n",
    "    windows_sentences = []\n",
    "\n",
    "    for sentence in elements:\n",
    "\n",
    "        word_len = len(sentence)\n",
    "        if accumulate_len+word_len <= sentence_len:\n",
    "            windows_sentences.append(sentence)\n",
    "            accumulate_len += word_len\n",
    "        else:\n",
    "            windows_sentence = \"\\n\".join(windows_sentences)\n",
    "            final_sentence_list.append(windows_sentence)\n",
    "            windows_sentences = windows_sentences[-overlapping_size:].copy()+[\n",
    "                sentence]\n",
    "            accumulate_len = word_len\n",
    "\n",
    "    if len(windows_sentences) > 0:\n",
    "        windows_sentence = \"\\n\".join(windows_sentences)\n",
    "        final_sentence_list.append(windows_sentence)\n",
    "\n",
    "    return final_sentence_list"
   ]
  },
  {
   "cell_type": "code",
   "execution_count": 52,
   "metadata": {},
   "outputs": [],
   "source": [
    "chunks = consolidate_elements(elements, sentence_len=256, overlapping_size=2)"
   ]
  },
  {
   "cell_type": "code",
   "execution_count": 53,
   "metadata": {},
   "outputs": [],
   "source": [
    "# print(chunks[2])"
   ]
  },
  {
   "cell_type": "code",
   "execution_count": 54,
   "metadata": {},
   "outputs": [],
   "source": [
    "from app.routers.documents.embedding import SentencesToEmbeddings"
   ]
  },
  {
   "cell_type": "code",
   "execution_count": 55,
   "metadata": {},
   "outputs": [],
   "source": [
    "sentences_to_vectors = SentencesToEmbeddings()"
   ]
  },
  {
   "cell_type": "code",
   "execution_count": 56,
   "metadata": {},
   "outputs": [],
   "source": [
    "# sentences_to_vectors(chunks)"
   ]
  },
  {
   "cell_type": "code",
   "execution_count": 57,
   "metadata": {},
   "outputs": [],
   "source": [
    "import chromadb"
   ]
  },
  {
   "cell_type": "code",
   "execution_count": 58,
   "metadata": {},
   "outputs": [],
   "source": [
    "db_path = \"/Users/nelsonlin/Desktop/workspaces/llm-local-chat-api/app/data\""
   ]
  },
  {
   "cell_type": "code",
   "execution_count": 59,
   "metadata": {},
   "outputs": [],
   "source": [
    "chroma_client = chromadb.PersistentClient(path=db_path)"
   ]
  },
  {
   "cell_type": "code",
   "execution_count": 60,
   "metadata": {},
   "outputs": [],
   "source": [
    "document_collection = chroma_client.get_or_create_collection(name=\"documents\")"
   ]
  },
  {
   "cell_type": "code",
   "execution_count": 61,
   "metadata": {},
   "outputs": [],
   "source": [
    "file_path = os.path.abspath(doc_path)\n",
    "file_name = os.path.basename(doc_path)"
   ]
  },
  {
   "cell_type": "code",
   "execution_count": 62,
   "metadata": {},
   "outputs": [],
   "source": [
    "document_collection.add(\n",
    "    documents=[file_name],\n",
    "    embeddings=[[0]],\n",
    "    metadatas={\"file_name\": file_name, \"file_path\": file_path},\n",
    "    ids=[file_name]\n",
    ")"
   ]
  },
  {
   "cell_type": "code",
   "execution_count": 63,
   "metadata": {},
   "outputs": [
    {
     "data": {
      "text/plain": [
       "{'ids': ['健鼎机组蒸汽回水pH控制器设计更改事宜.docx', '尼得科CT变频器推广使用说明.docx'],\n",
       " 'embeddings': None,\n",
       " 'metadatas': [{'file_name': '健鼎机组蒸汽回水pH控制器设计更改事宜.docx',\n",
       "   'file_path': '/Users/nelsonlin/Desktop/workspaces/llm-local-chat-api/documents/健鼎机组蒸汽回水pH控制器设计更改事宜.docx'},\n",
       "  {'file_name': '尼得科CT变频器推广使用说明.docx',\n",
       "   'file_path': '/Users/nelsonlin/Desktop/workspaces/llm-local-chat-api/documents/尼得科CT变频器推广使用说明.docx'}],\n",
       " 'documents': ['健鼎机组蒸汽回水pH控制器设计更改事宜.docx', '尼得科CT变频器推广使用说明.docx'],\n",
       " 'uris': None,\n",
       " 'data': None}"
      ]
     },
     "execution_count": 63,
     "metadata": {},
     "output_type": "execute_result"
    }
   ],
   "source": [
    "document_collection.get()"
   ]
  },
  {
   "cell_type": "code",
   "execution_count": 64,
   "metadata": {},
   "outputs": [
    {
     "data": {
      "text/plain": [
       "{'ids': ['健鼎机组蒸汽回水pH控制器设计更改事宜.docx'],\n",
       " 'embeddings': None,\n",
       " 'metadatas': [{'file_name': '健鼎机组蒸汽回水pH控制器设计更改事宜.docx',\n",
       "   'file_path': '/Users/nelsonlin/Desktop/workspaces/llm-local-chat-api/documents/健鼎机组蒸汽回水pH控制器设计更改事宜.docx'}],\n",
       " 'documents': ['健鼎机组蒸汽回水pH控制器设计更改事宜.docx'],\n",
       " 'uris': None,\n",
       " 'data': None}"
      ]
     },
     "execution_count": 64,
     "metadata": {},
     "output_type": "execute_result"
    }
   ],
   "source": [
    "document_collection.get(where={\"file_name\": file_name})"
   ]
  },
  {
   "cell_type": "code",
   "execution_count": 65,
   "metadata": {},
   "outputs": [],
   "source": [
    "# document_collection.delete(where={\"file_name\": file_name})"
   ]
  },
  {
   "cell_type": "code",
   "execution_count": 66,
   "metadata": {},
   "outputs": [],
   "source": [
    "embedding_collection = chroma_client.get_or_create_collection(\n",
    "    name=\"documents_embedding\")"
   ]
  },
  {
   "cell_type": "code",
   "execution_count": 67,
   "metadata": {},
   "outputs": [],
   "source": [
    "# document_collection.delete(where={\"file_name\": file_name})"
   ]
  },
  {
   "cell_type": "code",
   "execution_count": 68,
   "metadata": {},
   "outputs": [
    {
     "data": {
      "text/plain": [
       "{'ids': ['健鼎机组蒸汽回水pH控制器设计更改事宜.docx', '尼得科CT变频器推广使用说明.docx'],\n",
       " 'embeddings': None,\n",
       " 'metadatas': [{'file_name': '健鼎机组蒸汽回水pH控制器设计更改事宜.docx',\n",
       "   'file_path': '/Users/nelsonlin/Desktop/workspaces/llm-local-chat-api/documents/健鼎机组蒸汽回水pH控制器设计更改事宜.docx'},\n",
       "  {'file_name': '尼得科CT变频器推广使用说明.docx',\n",
       "   'file_path': '/Users/nelsonlin/Desktop/workspaces/llm-local-chat-api/documents/尼得科CT变频器推广使用说明.docx'}],\n",
       " 'documents': ['健鼎机组蒸汽回水pH控制器设计更改事宜.docx', '尼得科CT变频器推广使用说明.docx'],\n",
       " 'uris': None,\n",
       " 'data': None}"
      ]
     },
     "execution_count": 68,
     "metadata": {},
     "output_type": "execute_result"
    }
   ],
   "source": [
    "document_collection.get()"
   ]
  },
  {
   "cell_type": "code",
   "execution_count": 69,
   "metadata": {},
   "outputs": [
    {
     "data": {
      "text/plain": [
       "{'ids': ['健鼎机组蒸汽回水pH控制器设计更改事宜.docx_0',\n",
       "  '健鼎机组蒸汽回水pH控制器设计更改事宜.docx_1',\n",
       "  '健鼎机组蒸汽回水pH控制器设计更改事宜.docx_2',\n",
       "  '健鼎机组蒸汽回水pH控制器设计更改事宜.docx_3'],\n",
       " 'embeddings': None,\n",
       " 'metadatas': [{'file_name': '健鼎机组蒸汽回水pH控制器设计更改事宜.docx',\n",
       "   'file_path': '/Users/nelsonlin/Desktop/workspaces/llm-local-chat-api/documents/健鼎机组蒸汽回水pH控制器设计更改事宜.docx'},\n",
       "  {'file_name': '健鼎机组蒸汽回水pH控制器设计更改事宜.docx',\n",
       "   'file_path': '/Users/nelsonlin/Desktop/workspaces/llm-local-chat-api/documents/健鼎机组蒸汽回水pH控制器设计更改事宜.docx'},\n",
       "  {'file_name': '健鼎机组蒸汽回水pH控制器设计更改事宜.docx',\n",
       "   'file_path': '/Users/nelsonlin/Desktop/workspaces/llm-local-chat-api/documents/健鼎机组蒸汽回水pH控制器设计更改事宜.docx'},\n",
       "  {'file_name': '健鼎机组蒸汽回水pH控制器设计更改事宜.docx',\n",
       "   'file_path': '/Users/nelsonlin/Desktop/workspaces/llm-local-chat-api/documents/健鼎机组蒸汽回水pH控制器设计更改事宜.docx'}],\n",
       " 'documents': ['宇宙集团\\n联络单\\nQR.803.02-04(VER:B)                                                         编号：LL-D2401231',\n",
       "  '联络单\\nQR.803.02-04(VER:B)                                                         编号：LL-D2401231\\n主题  主题        健鼎机组蒸汽回水pH控制器设计更改事宜  健鼎机组蒸汽回水pH控制器设计更改事宜  健鼎机组蒸汽回水pH控制器设计更改事宜  批准\\n版次  发出日期    编制者                                类型选择                              制品处理                              制品处理      厂外旧设计损坏后维修方案\\nR0    2024/01/23  袁杰                                  无                                    无                                    按联络单执行',\n",
       "  'QR.803.02-04(VER:B)                                                         编号：LL-D2401231\\n主题  主题        健鼎机组蒸汽回水pH控制器设计更改事宜  健鼎机组蒸汽回水pH控制器设计更改事宜  健鼎机组蒸汽回水pH控制器设计更改事宜  批准\\n版次  发出日期    编制者                                类型选择                              制品处理                              制品处理      厂外旧设计损坏后维修方案\\nR0    2024/01/23  袁杰                                  无                                    无                                    按联络单执行\\n大家好：\\n服务部反馈健鼎机组蒸汽回水管路上安装的pH控制器设计的报警功能不完善，因实际使用过程中会检测酸性药水也会检测碱性药水，但是电路图只设计了一个高点报警输出，会导致检测酸性药水时没有报警的情况，为此请服务部按以下要求更改：\\npH控制器按下图更改,增加一路低点报警。\\n      \\nPH控制器参数设置：\\n1）高点报警设置：继电器1(Relay 1)把设定点(SP)设置为8.00pH，调整迟滞值(Hys)设置为 0.10pH；',\n",
       "  'PH控制器参数设置：\\n1）高点报警设置：继电器1(Relay 1)把设定点(SP)设置为8.00pH，调整迟滞值(Hys)设置为 0.10pH；\\n2）低点报警设置：继电器2(Relay 2)把设定点(SP)设置为5.00pH，调整迟滞值(Hys)设置为0.10pH。根据操作手册进入操作页面设置如下图：\\n\\n\\n\\n\\n请服务部根据第1、2点的要求进行更改，共有67台机需要更改，清单如下表格：\\n\\n如有不明之处，请及时联系！'],\n",
       " 'uris': None,\n",
       " 'data': None}"
      ]
     },
     "execution_count": 69,
     "metadata": {},
     "output_type": "execute_result"
    }
   ],
   "source": [
    "embedding_collection.get()"
   ]
  },
  {
   "cell_type": "code",
   "execution_count": 70,
   "metadata": {},
   "outputs": [],
   "source": [
    "metadatas = [{'file_path': file_path, 'file_name': file_name}] * len(chunks)"
   ]
  },
  {
   "cell_type": "code",
   "execution_count": 71,
   "metadata": {},
   "outputs": [],
   "source": [
    "embeddings = sentences_to_vectors(chunks)"
   ]
  },
  {
   "cell_type": "code",
   "execution_count": 72,
   "metadata": {},
   "outputs": [],
   "source": [
    "ids = [file_name+f\"_{i}\" for i in range(len(chunks))]"
   ]
  },
  {
   "cell_type": "code",
   "execution_count": 73,
   "metadata": {},
   "outputs": [
    {
     "data": {
      "text/plain": [
       "4"
      ]
     },
     "execution_count": 73,
     "metadata": {},
     "output_type": "execute_result"
    }
   ],
   "source": [
    "len(embeddings)"
   ]
  },
  {
   "cell_type": "code",
   "execution_count": 74,
   "metadata": {},
   "outputs": [
    {
     "name": "stderr",
     "output_type": "stream",
     "text": [
      "Insert of existing embedding ID: 健鼎机组蒸汽回水pH控制器设计更改事宜.docx_0\n",
      "Insert of existing embedding ID: 健鼎机组蒸汽回水pH控制器设计更改事宜.docx_1\n",
      "Insert of existing embedding ID: 健鼎机组蒸汽回水pH控制器设计更改事宜.docx_2\n",
      "Insert of existing embedding ID: 健鼎机组蒸汽回水pH控制器设计更改事宜.docx_3\n",
      "Add of existing embedding ID: 健鼎机组蒸汽回水pH控制器设计更改事宜.docx_0\n",
      "Add of existing embedding ID: 健鼎机组蒸汽回水pH控制器设计更改事宜.docx_1\n",
      "Add of existing embedding ID: 健鼎机组蒸汽回水pH控制器设计更改事宜.docx_2\n",
      "Add of existing embedding ID: 健鼎机组蒸汽回水pH控制器设计更改事宜.docx_3\n"
     ]
    }
   ],
   "source": [
    "embedding_collection.add(\n",
    "    documents=chunks,\n",
    "    embeddings=embeddings,\n",
    "    metadatas=metadatas,\n",
    "    ids=ids\n",
    ")"
   ]
  },
  {
   "cell_type": "code",
   "execution_count": 76,
   "metadata": {},
   "outputs": [
    {
     "name": "stdout",
     "output_type": "stream",
     "text": [
      "PH控制器参数设置：\n",
      "1）高点报警设置：继电器1(Relay 1)把设定点(SP)设置为8.00pH，调整迟滞值(Hys)设置为 0.10pH；\n",
      "2）低点报警设置：继电器2(Relay 2)把设定点(SP)设置为5.00pH，调整迟滞值(Hys)设置为0.10pH。根据操作手册进入操作页面设置如下图：\n",
      "\n",
      "\n",
      "\n",
      "\n",
      "请服务部根据第1、2点的要求进行更改，共有67台机需要更改，清单如下表格：\n",
      "\n",
      "如有不明之处，请及时联系！\n"
     ]
    }
   ],
   "source": [
    "print(chunks[3])"
   ]
  },
  {
   "cell_type": "code",
   "execution_count": 77,
   "metadata": {},
   "outputs": [],
   "source": [
    "query_text = \"PH控制器参数设置\""
   ]
  },
  {
   "cell_type": "code",
   "execution_count": 78,
   "metadata": {},
   "outputs": [],
   "source": [
    "query_embedding = sentences_to_vectors([query_text])[0]"
   ]
  },
  {
   "cell_type": "code",
   "execution_count": 86,
   "metadata": {},
   "outputs": [
    {
     "name": "stderr",
     "output_type": "stream",
     "text": [
      "Number of requested results 10 is greater than number of elements in index 4, updating n_results = 4\n"
     ]
    }
   ],
   "source": [
    "embedding_query_results = embedding_collection.query(query_embeddings=query_embedding,\n",
    "                                                     where={\n",
    "                                                         \"file_name\": file_name})"
   ]
  },
  {
   "cell_type": "code",
   "execution_count": 113,
   "metadata": {},
   "outputs": [
    {
     "name": "stdout",
     "output_type": "stream",
     "text": [
      "PH控制器参数设置：\n",
      "1）高点报警设置：继电器1(Relay 1)把设定点(SP)设置为8.00pH，调整迟滞值(Hys)设置为 0.10pH；\n",
      "2）低点报警设置：继电器2(Relay 2)把设定点(SP)设置为5.00pH，调整迟滞值(Hys)设置为0.10pH。根据操作手册进入操作页面设置如下图：\n",
      "\n",
      "\n",
      "\n",
      "\n",
      "请服务部根据第1、2点的要求进行更改，共有67台机需要更改，清单如下表格：\n",
      "\n",
      "如有不明之处，请及时联系！\n",
      "QR.803.02-04(VER:B)                                                         编号：LL-D2401231\n",
      "主题  主题        健鼎机组蒸汽回水pH控制器设计更改事宜  健鼎机组蒸汽回水pH控制器设计更改事宜  健鼎机组蒸汽回水pH控制器设计更改事宜  批准\n",
      "版次  发出日期    编制者                                类型选择                              制品处理                              制品处理      厂外旧设计损坏后维修方案\n",
      "R0    2024/01/23  袁杰                                  无                                    无                                    按联络单执行\n",
      "大家好：\n",
      "服务部反馈健鼎机组蒸汽回水管路上安装的pH控制器设计的报警功能不完善，因实际使用过程中会检测酸性药水也会检测碱性药水，但是电路图只设计了一个高点报警输出，会导致检测酸性药水时没有报警的情况，为此请服务部按以下要求更改：\n",
      "pH控制器按下图更改,增加一路低点报警。\n",
      "      \n",
      "PH控制器参数设置：\n",
      "1）高点报警设置：继电器1(Relay 1)把设定点(SP)设置为8.00pH，调整迟滞值(Hys)设置为 0.10pH；\n",
      "联络单\n",
      "QR.803.02-04(VER:B)                                                         编号：LL-D2401231\n",
      "主题  主题        健鼎机组蒸汽回水pH控制器设计更改事宜  健鼎机组蒸汽回水pH控制器设计更改事宜  健鼎机组蒸汽回水pH控制器设计更改事宜  批准\n",
      "版次  发出日期    编制者                                类型选择                              制品处理                              制品处理      厂外旧设计损坏后维修方案\n",
      "R0    2024/01/23  袁杰                                  无                                    无                                    按联络单执行\n",
      "宇宙集团\n",
      "联络单\n",
      "QR.803.02-04(VER:B)                                                         编号：LL-D2401231\n"
     ]
    }
   ],
   "source": [
    "print(\n",
    "    \"\\n\".join(embedding_query_results['documents'][0]))"
   ]
  },
  {
   "cell_type": "code",
   "execution_count": 83,
   "metadata": {},
   "outputs": [
    {
     "name": "stderr",
     "output_type": "stream",
     "text": [
      "Number of requested results 10 is greater than number of elements in index 4, updating n_results = 4\n"
     ]
    }
   ],
   "source": [
    "# embedding_query_results = embedding_collection.query(query_embeddings=query_embedding,\n",
    "#                                                      where={\n",
    "#                                                          \"file_name\": \"sdf\"})a"
   ]
  },
  {
   "cell_type": "code",
   "execution_count": 85,
   "metadata": {},
   "outputs": [
    {
     "data": {
      "text/plain": [
       "[[]]"
      ]
     },
     "execution_count": 85,
     "metadata": {},
     "output_type": "execute_result"
    }
   ],
   "source": [
    "embedding_query_results['documents']"
   ]
  },
  {
   "cell_type": "code",
   "execution_count": null,
   "metadata": {},
   "outputs": [],
   "source": [
    "\n",
    "\n",
    "\n",
    "\n"
   ]
  },
  {
   "cell_type": "code",
   "execution_count": 65,
   "metadata": {},
   "outputs": [
    {
     "data": {
      "text/plain": [
       "1"
      ]
     },
     "execution_count": 65,
     "metadata": {},
     "output_type": "execute_result"
    }
   ],
   "source": [
    "len(embedding_query_results['documents'])"
   ]
  },
  {
   "cell_type": "code",
   "execution_count": 66,
   "metadata": {},
   "outputs": [
    {
     "data": {
      "text/plain": [
       "[]"
      ]
     },
     "execution_count": 66,
     "metadata": {},
     "output_type": "execute_result"
    }
   ],
   "source": [
    "embedding_query_results['documents'][0]"
   ]
  },
  {
   "cell_type": "code",
   "execution_count": null,
   "metadata": {},
   "outputs": [],
   "source": []
  }
 ],
 "metadata": {
  "kernelspec": {
   "display_name": "llm",
   "language": "python",
   "name": "python3"
  },
  "language_info": {
   "codemirror_mode": {
    "name": "ipython",
    "version": 3
   },
   "file_extension": ".py",
   "mimetype": "text/x-python",
   "name": "python",
   "nbconvert_exporter": "python",
   "pygments_lexer": "ipython3",
   "version": "3.12.1"
  }
 },
 "nbformat": 4,
 "nbformat_minor": 2
}
