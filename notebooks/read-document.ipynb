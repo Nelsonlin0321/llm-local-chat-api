{
 "cells": [
  {
   "cell_type": "code",
   "execution_count": 1,
   "metadata": {},
   "outputs": [],
   "source": [
    "# import io\n",
    "import docx\n",
    "import os\n",
    "# import pytesseract\n",
    "from tabulate import tabulate\n",
    "from PIL import Image"
   ]
  },
  {
   "cell_type": "code",
   "execution_count": 2,
   "metadata": {},
   "outputs": [],
   "source": [
    "import sys"
   ]
  },
  {
   "cell_type": "code",
   "execution_count": 3,
   "metadata": {},
   "outputs": [],
   "source": [
    "sys.path.insert(0, \"./../\")"
   ]
  },
  {
   "cell_type": "code",
   "execution_count": 4,
   "metadata": {},
   "outputs": [],
   "source": [
    "# doc_path = \"./../documents/尼得科CT变频器推广使用说明.docx\"\n",
    "doc_path = \"./../documents/健鼎机组蒸汽回水pH控制器设计更改事宜.docx\""
   ]
  },
  {
   "cell_type": "code",
   "execution_count": 5,
   "metadata": {},
   "outputs": [],
   "source": [
    "doc = docx.Document(doc_path)"
   ]
  },
  {
   "cell_type": "code",
   "execution_count": 6,
   "metadata": {},
   "outputs": [],
   "source": [
    "def extract_tables(doc):\n",
    "    tables = []\n",
    "    for table in doc.tables:\n",
    "        table_data = []\n",
    "        for row in table.rows:\n",
    "            row_data = []\n",
    "            for cell in row.cells:\n",
    "                cell_text = ''\n",
    "                for paragraph in cell.paragraphs:\n",
    "                    cell_text += paragraph.text\n",
    "                row_data.append(cell_text)\n",
    "            table_data.append(row_data)\n",
    "\n",
    "        tables.append(tabulate(table_data, tablefmt=\"plain\"))\n",
    "    return tables"
   ]
  },
  {
   "cell_type": "code",
   "execution_count": 7,
   "metadata": {},
   "outputs": [],
   "source": [
    "tables = extract_tables(doc)"
   ]
  },
  {
   "cell_type": "code",
   "execution_count": 8,
   "metadata": {},
   "outputs": [],
   "source": [
    "def extract_texts(doc):\n",
    "    texts = []\n",
    "    for p in doc.paragraphs:\n",
    "        texts.append(p.text)\n",
    "    return texts"
   ]
  },
  {
   "cell_type": "code",
   "execution_count": 9,
   "metadata": {},
   "outputs": [],
   "source": [
    "elements = []\n",
    "table_indices = []\n",
    "for index, element in enumerate(doc.element.body):\n",
    "    if element.tag.endswith(\"tbl\"):\n",
    "        table_indices.append(index)\n",
    "    elements.append(element.text)"
   ]
  },
  {
   "cell_type": "code",
   "execution_count": 10,
   "metadata": {},
   "outputs": [],
   "source": [
    "for index, table in enumerate(tables):\n",
    "    table_index = table_indices[index]\n",
    "    elements[table_index] = table"
   ]
  },
  {
   "cell_type": "code",
   "execution_count": 11,
   "metadata": {},
   "outputs": [],
   "source": [
    "elements = [element for element in elements if isinstance(element, str)]"
   ]
  },
  {
   "cell_type": "code",
   "execution_count": 12,
   "metadata": {},
   "outputs": [],
   "source": [
    "def consolidate_elements(elements, sentence_len=120, overlapping_size=2):\n",
    "\n",
    "    final_sentence_list = []\n",
    "    accumulate_len = 0\n",
    "    windows_sentences = []\n",
    "\n",
    "    for sentence in elements:\n",
    "\n",
    "        word_len = len(sentence)\n",
    "        if accumulate_len+word_len <= sentence_len:\n",
    "            windows_sentences.append(sentence)\n",
    "            accumulate_len += word_len\n",
    "        else:\n",
    "            windows_sentence = \"\\n\".join(windows_sentences)\n",
    "            final_sentence_list.append(windows_sentence)\n",
    "            windows_sentences = windows_sentences[-overlapping_size:].copy()+[\n",
    "                sentence]\n",
    "            accumulate_len = word_len\n",
    "\n",
    "    if len(windows_sentences) > 0:\n",
    "        windows_sentence = \"\\n\".join(windows_sentences)\n",
    "        final_sentence_list.append(windows_sentence)\n",
    "\n",
    "    return final_sentence_list"
   ]
  },
  {
   "cell_type": "code",
   "execution_count": 13,
   "metadata": {},
   "outputs": [],
   "source": [
    "chunks = consolidate_elements(elements, sentence_len=256, overlapping_size=2)"
   ]
  },
  {
   "cell_type": "code",
   "execution_count": 14,
   "metadata": {},
   "outputs": [],
   "source": [
    "# print(chunks[2])"
   ]
  },
  {
   "cell_type": "code",
   "execution_count": 15,
   "metadata": {},
   "outputs": [],
   "source": [
    "from app.routers.documents.embedding import SentencesToVectors"
   ]
  },
  {
   "cell_type": "code",
   "execution_count": 16,
   "metadata": {},
   "outputs": [
    {
     "name": "stderr",
     "output_type": "stream",
     "text": [
      "/opt/homebrew/Caskroom/miniforge/base/lib/python3.10/site-packages/torch/_utils.py:831: UserWarning: TypedStorage is deprecated. It will be removed in the future and UntypedStorage will be the only storage class. This should only matter to you if you are using storages directly.  To access UntypedStorage directly, use tensor.untyped_storage() instead of tensor.storage()\n",
      "  return self.fget.__get__(instance, owner)()\n"
     ]
    }
   ],
   "source": [
    "sentences_to_vectors = SentencesToVectors()"
   ]
  },
  {
   "cell_type": "code",
   "execution_count": 17,
   "metadata": {},
   "outputs": [],
   "source": [
    "# sentences_to_vectors(chunks)"
   ]
  },
  {
   "cell_type": "code",
   "execution_count": 18,
   "metadata": {},
   "outputs": [],
   "source": [
    "import chromadb"
   ]
  },
  {
   "cell_type": "code",
   "execution_count": 19,
   "metadata": {},
   "outputs": [],
   "source": [
    "db_path = \"/Users/nelsonlin/Desktop/workspaces/llm-local-chat-api/app/data\""
   ]
  },
  {
   "cell_type": "code",
   "execution_count": 20,
   "metadata": {},
   "outputs": [],
   "source": [
    "chroma_client = chromadb.PersistentClient(path=db_path)"
   ]
  },
  {
   "cell_type": "code",
   "execution_count": 21,
   "metadata": {},
   "outputs": [],
   "source": [
    "document_collection = chroma_client.get_or_create_collection(name=\"documents\")"
   ]
  },
  {
   "cell_type": "code",
   "execution_count": 22,
   "metadata": {},
   "outputs": [],
   "source": [
    "file_path = os.path.abspath(doc_path)\n",
    "file_name = os.path.basename(doc_path)"
   ]
  },
  {
   "cell_type": "code",
   "execution_count": 28,
   "metadata": {},
   "outputs": [
    {
     "name": "stderr",
     "output_type": "stream",
     "text": [
      "Add of existing embedding ID: 健鼎机组蒸汽回水pH控制器设计更改事宜.docx\n",
      "Insert of existing embedding ID: 健鼎机组蒸汽回水pH控制器设计更改事宜.docx\n"
     ]
    }
   ],
   "source": [
    "document_collection.add(\n",
    "    documents=[file_name],\n",
    "    embeddings=[[0]],\n",
    "    metadatas={\"file_name\": file_name, \"file_path\": file_path},\n",
    "    ids=[file_name]\n",
    ")"
   ]
  },
  {
   "cell_type": "code",
   "execution_count": 29,
   "metadata": {},
   "outputs": [
    {
     "data": {
      "text/plain": [
       "{'ids': ['健鼎机组蒸汽回水pH控制器设计更改事宜.docx', '尼得科CT变频器推广使用说明.docx'],\n",
       " 'embeddings': None,\n",
       " 'metadatas': [{'file_name': '健鼎机组蒸汽回水pH控制器设计更改事宜.docx',\n",
       "   'file_path': '/Users/nelsonlin/Desktop/workspaces/llm-local-chat-api/documents/健鼎机组蒸汽回水pH控制器设计更改事宜.docx'},\n",
       "  {'file_name': '尼得科CT变频器推广使用说明.docx',\n",
       "   'file_path': '/Users/nelsonlin/Desktop/workspaces/llm-local-chat-api/documents/尼得科CT变频器推广使用说明.docx'}],\n",
       " 'documents': ['健鼎机组蒸汽回水pH控制器设计更改事宜.docx', '尼得科CT变频器推广使用说明.docx'],\n",
       " 'uris': None,\n",
       " 'data': None}"
      ]
     },
     "execution_count": 29,
     "metadata": {},
     "output_type": "execute_result"
    }
   ],
   "source": [
    "document_collection.get()"
   ]
  },
  {
   "cell_type": "code",
   "execution_count": 30,
   "metadata": {},
   "outputs": [],
   "source": [
    "embedding_collection = chroma_client.get_or_create_collection(\n",
    "    name=\"documents_embedding\")"
   ]
  },
  {
   "cell_type": "code",
   "execution_count": 31,
   "metadata": {},
   "outputs": [],
   "source": [
    "metadatas = [{'file_path': file_path, 'file_name': file_name}] * len(chunks)"
   ]
  },
  {
   "cell_type": "code",
   "execution_count": 32,
   "metadata": {},
   "outputs": [],
   "source": [
    "embeddings = sentences_to_vectors(chunks)"
   ]
  },
  {
   "cell_type": "code",
   "execution_count": 33,
   "metadata": {},
   "outputs": [],
   "source": [
    "ids = [file_name+f\"_{i}\" for i in range(len(chunks))]"
   ]
  },
  {
   "cell_type": "code",
   "execution_count": 41,
   "metadata": {},
   "outputs": [
    {
     "data": {
      "text/plain": [
       "4"
      ]
     },
     "execution_count": 41,
     "metadata": {},
     "output_type": "execute_result"
    }
   ],
   "source": [
    "len(embeddings)"
   ]
  },
  {
   "cell_type": "code",
   "execution_count": 43,
   "metadata": {},
   "outputs": [],
   "source": [
    "embedding_collection.add(\n",
    "    documents=chunks,\n",
    "    embeddings=embeddings,\n",
    "    metadatas=metadatas,\n",
    "    ids=ids\n",
    ")"
   ]
  },
  {
   "cell_type": "code",
   "execution_count": null,
   "metadata": {},
   "outputs": [],
   "source": [
    "embedding_collection.query()"
   ]
  }
 ],
 "metadata": {
  "kernelspec": {
   "display_name": "llm",
   "language": "python",
   "name": "python3"
  },
  "language_info": {
   "codemirror_mode": {
    "name": "ipython",
    "version": 3
   },
   "file_extension": ".py",
   "mimetype": "text/x-python",
   "name": "python",
   "nbconvert_exporter": "python",
   "pygments_lexer": "ipython3",
   "version": "3.10.12"
  }
 },
 "nbformat": 4,
 "nbformat_minor": 2
}
