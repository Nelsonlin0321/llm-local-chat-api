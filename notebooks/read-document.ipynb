{
 "cells": [
  {
   "cell_type": "code",
   "execution_count": 10,
   "metadata": {},
   "outputs": [],
   "source": [
    "import io\n",
    "import docx\n",
    "import pytesseract\n",
    "from tabulate import tabulate\n",
    "from PIL import Image"
   ]
  },
  {
   "cell_type": "code",
   "execution_count": 11,
   "metadata": {},
   "outputs": [],
   "source": [
    "doc_path = \"./../documents/尼得科CT变频器推广使用说明.docx\""
   ]
  },
  {
   "cell_type": "code",
   "execution_count": 12,
   "metadata": {},
   "outputs": [],
   "source": [
    "doc = docx.Document(doc_path)"
   ]
  },
  {
   "cell_type": "code",
   "execution_count": 13,
   "metadata": {},
   "outputs": [],
   "source": [
    "def extract_tables(doc):\n",
    "    tables = []\n",
    "    for table in doc.tables:\n",
    "        table_data = []\n",
    "        for row in table.rows:\n",
    "            row_data = []\n",
    "            for cell in row.cells:\n",
    "                cell_text = ''\n",
    "                for paragraph in cell.paragraphs:\n",
    "                    cell_text += paragraph.text\n",
    "                row_data.append(cell_text)\n",
    "            table_data.append(row_data)\n",
    "\n",
    "        tables.append(tabulate(table_data,tablefmt=\"plain\"))\n",
    "    return tables\n"
   ]
  },
  {
   "cell_type": "code",
   "execution_count": 14,
   "metadata": {},
   "outputs": [],
   "source": [
    "def extract_texts(doc):\n",
    "    texts = []\n",
    "    for p in doc.paragraphs:\n",
    "        texts.append(p.text)\n",
    "    return texts"
   ]
  },
  {
   "cell_type": "code",
   "execution_count": 18,
   "metadata": {},
   "outputs": [],
   "source": [
    "# def extract_images_from_doc(document):\n",
    "#     images = []\n",
    "#     for rel in document.part.rels.values():\n",
    "#         if \"image\" in rel.reltype:\n",
    "#             image = rel.target_part.blob\n",
    "#             images.append(image)\n",
    "#     return images"
   ]
  },
  {
   "cell_type": "code",
   "execution_count": 20,
   "metadata": {},
   "outputs": [],
   "source": [
    "# extracted_images = extract_images_from_doc(doc)"
   ]
  },
  {
   "cell_type": "code",
   "execution_count": 17,
   "metadata": {},
   "outputs": [],
   "source": [
    "# def ocr_image(image_bytes):\n",
    "#     img = Image.open(io.BytesIO(image_bytes))\n",
    "#     text = pytesseract.image_to_string(img)\n",
    "#     return text"
   ]
  }
 ],
 "metadata": {
  "kernelspec": {
   "display_name": "llm",
   "language": "python",
   "name": "python3"
  },
  "language_info": {
   "codemirror_mode": {
    "name": "ipython",
    "version": 3
   },
   "file_extension": ".py",
   "mimetype": "text/x-python",
   "name": "python",
   "nbconvert_exporter": "python",
   "pygments_lexer": "ipython3",
   "version": "3.12.1"
  }
 },
 "nbformat": 4,
 "nbformat_minor": 2
}
