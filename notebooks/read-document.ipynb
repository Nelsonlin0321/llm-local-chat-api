{
 "cells": [
  {
   "cell_type": "code",
   "execution_count": 1,
   "metadata": {},
   "outputs": [],
   "source": [
    "import io\n",
    "import docx\n",
    "import pytesseract\n",
    "from tabulate import tabulate\n",
    "from PIL import Image"
   ]
  },
  {
   "cell_type": "code",
   "execution_count": 2,
   "metadata": {},
   "outputs": [],
   "source": [
    "doc_path = \"./../documents/尼得科CT变频器推广使用说明.docx\""
   ]
  },
  {
   "cell_type": "code",
   "execution_count": 3,
   "metadata": {},
   "outputs": [],
   "source": [
    "doc = docx.Document(doc_path)"
   ]
  },
  {
   "cell_type": "code",
   "execution_count": 4,
   "metadata": {},
   "outputs": [],
   "source": [
    "def extract_tables(doc):\n",
    "    tables = []\n",
    "    for table in doc.tables:\n",
    "        table_data = []\n",
    "        for row in table.rows:\n",
    "            row_data = []\n",
    "            for cell in row.cells:\n",
    "                cell_text = ''\n",
    "                for paragraph in cell.paragraphs:\n",
    "                    cell_text += paragraph.text\n",
    "                row_data.append(cell_text)\n",
    "            table_data.append(row_data)\n",
    "\n",
    "        tables.append(tabulate(table_data,tablefmt=\"plain\"))\n",
    "    return tables\n"
   ]
  },
  {
   "cell_type": "code",
   "execution_count": 5,
   "metadata": {},
   "outputs": [],
   "source": [
    "tables = extract_tables(doc)"
   ]
  },
  {
   "cell_type": "code",
   "execution_count": 6,
   "metadata": {},
   "outputs": [],
   "source": [
    "def extract_texts(doc):\n",
    "    texts = []\n",
    "    for p in doc.paragraphs:\n",
    "        texts.append(p.text)\n",
    "    return texts"
   ]
  },
  {
   "cell_type": "code",
   "execution_count": 7,
   "metadata": {},
   "outputs": [],
   "source": [
    "elements = []\n",
    "table_indices = []\n",
    "for index,element in enumerate(doc.element.body):\n",
    "    if element.tag.endswith(\"tbl\"):\n",
    "        table_indices.append(index)\n",
    "    elements.append(element.text)"
   ]
  },
  {
   "cell_type": "code",
   "execution_count": 8,
   "metadata": {},
   "outputs": [],
   "source": [
    "for index,table in enumerate(tables):\n",
    "    table_index = table_indices[index]\n",
    "    elements[table_index]=table"
   ]
  },
  {
   "cell_type": "code",
   "execution_count": 9,
   "metadata": {},
   "outputs": [],
   "source": [
    "elements = [element for element in elements if isinstance(element,str)]\n",
    "# elements = [ele for ele in elements]"
   ]
  },
  {
   "cell_type": "code",
   "execution_count": 10,
   "metadata": {},
   "outputs": [
    {
     "name": "stdout",
     "output_type": "stream",
     "text": [
      "宇宙集团联络单QR.803.02-04(VER:B)                                                  编号：   LL-D2206241R2 主 题  主 题       尼得科CT变频器推广使用说明  尼得科CT变频器推广使用说明  尼得科CT变频器推广使用说明  批 准\n",
      "版次   发出日期    编制者                      类型选择                    制品处理                    制品处理  厂外旧设计损坏后维修方案\n",
      "R2     2023/10/11  明瑞义                      按联络单                    按联络单                    按联络单大家好：尼得科CT NE200/NE300系列变频器从去年11月使用到现在，性能相对稳定，功能可以满足我司的使用要求。现决定后续水平机输送变频器、同步电机(永磁电机)、异步电机（IE3电机）、常规风机均推广使用尼得科CT变频器包括国外机组，其它品牌的变频器如三菱/ABB/西门子等只有在业务订单有特殊要求时才能使用。一、尼得科CT变频器使用的相关事项说明如下：尼得科CT变频器型号：物料编码     物料描述\n",
      "20030901951  1HP/NE200-4T0007G/0015PB/三相380V～440V/重载电流2.5A/轻载电流4.0A\n",
      "20030999131  2HP/NE200-4T0015G/0022PB/三相380V～440V/重载电流4.0A/轻载电流6.0A\n",
      "20030999132  3HP/NE200-4T0022GB-M/三相380V～440V/重载电流6.0A/轻载电流9.0A\n",
      "20030999133  5HP/NE200-4T0040G/0055PB/三相380V～440V/重载电流9.0A/轻载电流13.0A\n",
      "20030999134  7.5HP/NE300-4T0055G/0075PB/三相380V～440V/重载电流13.0A/轻载电流17.0A\n",
      "20030999135  10HP/NE300-4T0075G/0110PB/三相380V～440V/重载电流17.0A/轻载电流25.0A\n",
      "20030999136  15HP/NE300-4T0110G/0150PB/三相380V～440V/重载电流25.0A/轻载电流32.0A\n",
      "20030901952  20HP/NE300-4T0150G/0185PB/三相380V～440V/重载电流32.0A/轻载电流37.0A\n",
      "20030901955  1HP/NE200-2S0007GB/单相220V～240V/输出电流4.5A\n",
      "20030901954  2HP/NE200-2S0015GB/单相220V～240V/输出电流7.0A\n",
      "20030901953  3HP/NE200-2S0022GB/单相220V～240V/输出电流10.0A尼得科CT变频器选型规则:1)、异步电机(IE3)/风机选型明细马达类型  马达类型  三相380V电源                马达类型  马达类型  三相380V电源\n",
      "水泵      1HP       1HP/NE200-4T0007G/0015PB    风机      1HP       1HP/NE200-4T0007G/0015PB\n",
      "水泵      2HP       2HP/NE200-4T0015G/0022PB    风机      2HP       2HP/NE200-4T0015G/0022PB\n",
      "水泵      3HP       3HP/NE200-4T0022GB-M        风机      3HP       3HP/NE200-4T0022GB-M\n",
      "水泵      5.5HP     5HP/NE200-4T0040G/0055PB    风机      4HP       5HP/NE200-4T0040G/0055PB\n",
      "水泵      7.5HP     7.5HP/NE300-4T0055G/0075PB  风机      5.5HP     7.5HP/NE300-4T0055G/0075PB\n",
      "水泵      10HP      10HP/NE300-4T0075G/0110PB   风机      7.5HP     10HP/NE300-4T0075G/0110PB\n",
      "水泵      15HP      15HP/NE300-4T0110G/0150PB   风机      /         /选型规则说明：a、因5HP/7.5HP风机电流较大，同功率变频器额定输出电流无法满足，所以需选用大一个型号的变频器；b、除5.5HP/7.5HP风机外的其它变频器选型按电机容量选择，即变频器容量等于电机功率；2)、同步电机(永磁电机)选型明细马达类型  马达类型       三相380V电源\n",
      "水泵功率  1.35kW         2HP/NE200-4T0015G/0022PB\n",
      "水泵功率  2.0kW          3HP/NE200-4T0022GB-M\n",
      "水泵功率  3.0 kW /3.7kW  5HP/NE200-4T0040G/0055PB\n",
      "水泵功率  5.0kW          7.5HP/NE300-4T0055G/0075PB\n",
      "水泵功率  6.75kW         10HP/NE300-4T0075G/0110PB3)、输送变频器替代三菱变频器关系如下：   三菱D720系列变频器物料编码  三菱D720系列变频器物料描述                    尼得科CT系列变频器物料编码  尼得科CT系列变频器物料描述\n",
      "20030901521                 1HP/FR-D720S-0.75K-CHT单相200～240V           20030901955                 1HP/NE200-2S0007GB/单相220V～240V/输出电流4.5A\n",
      "20030901542                 2HP/FR-D720S-1.5K-CHT/单相200～240V/固定面板  20030901954                 2HP/NE200-2S0015GB/单相220V～240V/输出电流7.0A\n",
      "20030901595                 3HP/FR-D720S-2.2K-CHT/单相200～240V/固定面板  20030901953                 3HP/NE200-2S0022GB/单相220V～240V/输出电流10.0A4)、三相220V、卷对卷、精密磨板机、带CC-link通讯的变频器暂时按现在使用的三菱品牌选型，待后续尼得科CT变频器测试合格后再通知使用。二、变频器安装和维修的处理方式安装尺寸尼得科CT NE200安装尺寸如下图：   尼得科CT NE300安装尺寸如下图：从变频器尺寸明细表可看出：尼得科CT 1HP变频器比三菱的CS84和D700同功率变频器都要宽(W)和高(H)，尼得科CT 2HP～10HP变频器比三菱的CS84和D700同功率变频器都要窄(W)但是又偏高(H)，尺寸完全不一致。如下为尼得科CT变频器与三菱/ABB/西门子变频器尺寸列表：变频器安装方式：所有变频器必须优先安装在电箱最顶部，变频器上端与电箱顶部或与线槽的距离≥100mm，如下图所示：电箱有中有排布两排或两排以上变频器的，在电箱空间允许时尽量将上下两排错开安装，以利于变频器散热，上下两排之间的间距需≥100mm；立式电箱变频器尽量安装在有空调的电箱或带空调电箱两侧的电箱（带冰水空调的机组不用参考此点）；厂内三菱/ABB/西门子变频器处理如下：请PMC停止下单三菱/ABB/西门子变频器。国内外机组后续全部使用尼得科CT变频器，厂内库存三菱/ABB/西门子用于服务厂外维修更换。  厂外三菱/ABB/西门子变频器损坏处理方案如下：据上述各种变频器尺寸明细表可知:尼得科CT与之前使用的三菱/ABB/西门子变频器尺寸完全不一致，厂外更换时优先考虑使用同品牌变频器，如需使用尼得科CT变频器，首先要确认安装空间是否足够，另外在安装时需重新打孔固定以及更新PLC程序。以上变频器的安装制作要求从新制作的电箱开始执行，电路图设计从GL220855和GLJ220174开始执行。近期发现DES氧化剂添加泵三段速使用尼得科CT变频器控制参数有误，需更新参数如下并附上更新后的参数表： F0.06=20预置频率F6.01=1正转启动，F6.04=17多段速端子1，F6.05=18多段速端子2F9.00=50多段速速度1，F9.01=35多段速速度2，原F9.02取消厂内制作机组需按以上参数更新，已出货和已包装待出货的变频器参数更新由服务安排及时处理，需更改参数的机组清单如下：R2改版：因厂外有发生过更换永磁泵未重新辨识而导致永磁泵运行异常的现象，现要求厂内和厂外后续只要更换永磁泵或配套永磁泵的变频器时均需重新辨识自学习，确保泵浦正常运行，辨识方法参考以下参数表：最新增加/更改的内容见红色粗体下划线部分。以上如有疑问请联络，谢谢！\n"
     ]
    }
   ],
   "source": [
    "print(\"\".join(elements))"
   ]
  },
  {
   "cell_type": "code",
   "execution_count": 10,
   "metadata": {},
   "outputs": [],
   "source": [
    "chunk_size = 10\n",
    "overlapping_size = 5 "
   ]
  },
  {
   "cell_type": "code",
   "execution_count": null,
   "metadata": {},
   "outputs": [],
   "source": []
  },
  {
   "cell_type": "code",
   "execution_count": 44,
   "metadata": {},
   "outputs": [],
   "source": [
    "def chunk_elements(elements, chunk_size, overlapping_size):\n",
    "    chunks = []\n",
    "\n",
    "    start = 0\n",
    "    while start < len(elements):\n",
    "        end = start + chunk_size\n",
    "        chunk = elements[start:end]\n",
    "        chunks.append(\"\".join(chunk))\n",
    "        start += chunk_size - overlapping_size\n",
    "\n",
    "    return chunks"
   ]
  },
  {
   "cell_type": "code",
   "execution_count": 45,
   "metadata": {},
   "outputs": [
    {
     "ename": "NameError",
     "evalue": "name 'overlapping_size' is not defined",
     "output_type": "error",
     "traceback": [
      "\u001b[0;31m---------------------------------------------------------------------------\u001b[0m",
      "\u001b[0;31mNameError\u001b[0m                                 Traceback (most recent call last)",
      "Cell \u001b[0;32mIn[45], line 1\u001b[0m\n\u001b[0;32m----> 1\u001b[0m chunk_elements(elements, chunk_size, \u001b[43moverlapping_size\u001b[49m)\n",
      "\u001b[0;31mNameError\u001b[0m: name 'overlapping_size' is not defined"
     ]
    }
   ],
   "source": [
    "chunk_elements(elements, chunk_size, overlapping_size)"
   ]
  },
  {
   "cell_type": "code",
   "execution_count": null,
   "metadata": {},
   "outputs": [],
   "source": []
  },
  {
   "cell_type": "code",
   "execution_count": 35,
   "metadata": {},
   "outputs": [],
   "source": [
    "# import jieba"
   ]
  },
  {
   "cell_type": "code",
   "execution_count": 36,
   "metadata": {},
   "outputs": [],
   "source": [
    "# texts = \"\""
   ]
  },
  {
   "cell_type": "code",
   "execution_count": 37,
   "metadata": {},
   "outputs": [],
   "source": [
    "# tokens = list(jieba.cut(texts))"
   ]
  },
  {
   "cell_type": "code",
   "execution_count": 38,
   "metadata": {},
   "outputs": [],
   "source": [
    "# chunk_size = 1024\n",
    "# overlap_size = 256"
   ]
  },
  {
   "cell_type": "code",
   "execution_count": 40,
   "metadata": {},
   "outputs": [],
   "source": [
    "# def chunk_text(tokens, chunk_size, overlapping_size):\n",
    "#     chunks = []\n",
    "\n",
    "#     start = 0\n",
    "#     while start < len(tokens):\n",
    "#         end = start + chunk_size\n",
    "#         chunk = tokens[start:end]\n",
    "#         chunks.append(\"\".join(chunk))\n",
    "#         start += chunk_size - overlapping_size\n",
    "\n",
    "#     return chunks"
   ]
  },
  {
   "cell_type": "code",
   "execution_count": null,
   "metadata": {},
   "outputs": [],
   "source": []
  }
 ],
 "metadata": {
  "kernelspec": {
   "display_name": "llm",
   "language": "python",
   "name": "python3"
  },
  "language_info": {
   "codemirror_mode": {
    "name": "ipython",
    "version": 3
   },
   "file_extension": ".py",
   "mimetype": "text/x-python",
   "name": "python",
   "nbconvert_exporter": "python",
   "pygments_lexer": "ipython3",
   "version": "3.12.1"
  }
 },
 "nbformat": 4,
 "nbformat_minor": 2
}
