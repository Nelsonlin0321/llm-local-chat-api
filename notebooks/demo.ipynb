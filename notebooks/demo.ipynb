{
 "cells": [
  {
   "cell_type": "code",
   "execution_count": 1,
   "metadata": {},
   "outputs": [],
   "source": [
    "import requests\n",
    "import json"
   ]
  },
  {
   "cell_type": "code",
   "execution_count": 2,
   "metadata": {},
   "outputs": [],
   "source": [
    "data = {\n",
    "  \"context\": \"标牌制作\",\n",
    "  \"question\": \"标牌制作的要求是什么？\",\n",
    "  \"file_name\": \"关于精密研磨优化改进制作说明.docx\"\n",
    "}"
   ]
  },
  {
   "cell_type": "code",
   "execution_count": 3,
   "metadata": {},
   "outputs": [],
   "source": [
    "URL  =  \"http://localhost:5000/api/RAG/retrieval_generate\""
   ]
  },
  {
   "cell_type": "code",
   "execution_count": 7,
   "metadata": {},
   "outputs": [],
   "source": [
    "response = requests.post(URL,data=json.dumps(data))"
   ]
  },
  {
   "cell_type": "code",
   "execution_count": 5,
   "metadata": {},
   "outputs": [],
   "source": [
    "result = response.json()"
   ]
  },
  {
   "cell_type": "code",
   "execution_count": 6,
   "metadata": {},
   "outputs": [
    {
     "name": "stdout",
     "output_type": "stream",
     "text": [
      "标牌制作的要求包括以下几点：\n",
      "\n",
      "1. 零件激光打印标牌制作要求：为了使精密研磨看美观、方便区分左/右旋螺纹零件，对锁紧螺母（SZC4L76A1672）和顶紧螺栓（SZC4L76A2232）的端面采用激光打印标识，同时取消锁紧螺母拆卸标牌（SZC4L76A3310）。\n",
      "\n",
      "2. 精密研磨标牌制作要求：为了避免客户错误使用铝合金端盖的针刷，导致磨辘与轴之间因铝合金氧化而拆卸困难或无法拆卸，需要在精密研磨的前门正上方粘贴针刷标牌（SZC4L76A369）。这个规定适用于所有未出货的精密研磨机组。\n",
      "\n",
      "3. 过桥行辘制作要求：为提升精密研磨做薄板能力，后续非SZB、SZZB机型的精密研磨都需要制作过桥行辘。对于已经增加的过桥行辘的精密研磨订单，以及后续的精密研磨需要按照以上要求制作过桥行辘。\n",
      "\n",
      "4. 其他标牌制作要求：当机组含有多个精密研磨段时，配套的中继缸标牌需增加对应精密研磨段配套的序号。同样，对于磨板机配套的磨板附缸，火山灰水洗附缸，喷砂、火山灰配套的自动添加系统等，附缸、自动添加系统的标牌上也需有配套的相应段落序号。此外，对于厚板精密磨，即包胶辘带抬升机型，气管接头增加类似线码标识，方便厂外服务装机维护。\n"
     ]
    }
   ],
   "source": [
    "print(result['answer'])"
   ]
  },
  {
   "cell_type": "code",
   "execution_count": 9,
   "metadata": {},
   "outputs": [],
   "source": [
    "data = {\n",
    "  \"context\": \"\",\n",
    "  \"question\": \"在自动研磨模式下，如何保护生产板？\",\n",
    "  \"file_name\": \"关于精密研磨优化改进制作说明.docx\"\n",
    "}"
   ]
  },
  {
   "cell_type": "code",
   "execution_count": 10,
   "metadata": {},
   "outputs": [],
   "source": [
    "response = requests.post(URL,data=json.dumps(data))"
   ]
  },
  {
   "cell_type": "code",
   "execution_count": 11,
   "metadata": {},
   "outputs": [
    {
     "name": "stdout",
     "output_type": "stream",
     "text": [
      "在自动研磨模式下，当检测板厚小于0.15mm时，系统会报警提示请选择输送模式过板，以此保护生产板免受不必要的磨损或损坏。\n"
     ]
    }
   ],
   "source": [
    "result = response.json()\n",
    "print(result['answer'])"
   ]
  },
  {
   "cell_type": "code",
   "execution_count": null,
   "metadata": {},
   "outputs": [],
   "source": []
  }
 ],
 "metadata": {
  "kernelspec": {
   "display_name": "base",
   "language": "python",
   "name": "python3"
  },
  "language_info": {
   "codemirror_mode": {
    "name": "ipython",
    "version": 3
   },
   "file_extension": ".py",
   "mimetype": "text/x-python",
   "name": "python",
   "nbconvert_exporter": "python",
   "pygments_lexer": "ipython3",
   "version": "3.11.5"
  }
 },
 "nbformat": 4,
 "nbformat_minor": 2
}
