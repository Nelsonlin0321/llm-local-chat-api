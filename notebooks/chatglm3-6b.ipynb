{
 "cells": [
  {
   "cell_type": "code",
   "execution_count": 1,
   "metadata": {},
   "outputs": [],
   "source": [
    "from transformers import AutoTokenizer, AutoModel"
   ]
  },
  {
   "cell_type": "code",
   "execution_count": 2,
   "metadata": {},
   "outputs": [],
   "source": [
    "model_path = \"/mnt/nvme1n1p2/huggingface-models/THUDM/chatglm3-6b\""
   ]
  },
  {
   "cell_type": "code",
   "execution_count": 3,
   "metadata": {},
   "outputs": [
    {
     "data": {
      "application/vnd.jupyter.widget-view+json": {
       "model_id": "c56cf7e07bb946bbae80fa3cbdb37f0d",
       "version_major": 2,
       "version_minor": 0
      },
      "text/plain": [
       "Loading checkpoint shards:   0%|          | 0/7 [00:00<?, ?it/s]"
      ]
     },
     "metadata": {},
     "output_type": "display_data"
    }
   ],
   "source": [
    "tokenizer = AutoTokenizer.from_pretrained(model_path, trust_remote_code=True, local_files_only=True)\n",
    "model = AutoModel.from_pretrained(model_path, trust_remote_code=True,device_map=\"auto\").half()\n",
    "\n",
    "\n",
    "# .half().cuda()"
   ]
  },
  {
   "cell_type": "code",
   "execution_count": 4,
   "metadata": {},
   "outputs": [],
   "source": [
    "TESTING_MESSAGES = [\n",
    "        {\n",
    "            \"role\": \"user\",\n",
    "            \"content\": \"解释一下“温故而知新”\"\n",
    "        },\n",
    "        {\n",
    "            \"role\": \"assistant\",\n",
    "            \"content\": \"“温故而知新”是一句源自《论语》的古文名言，其含义是回顾过去以获取新的知识和领悟。这句话鼓励人们在学习和生活中不断地回顾和反思过去的经验，从而发现新的理解和启示。通过这种方式，人们可以不断成长和提高自己，使自己的知识、技能和认识水平得到提升。”\"\n",
    "        },\n",
    "        # {\n",
    "        #     \"role\": \"user\",\n",
    "        #     \"content\": \"\"\n",
    "        # }\n",
    "    ]"
   ]
  },
  {
   "cell_type": "code",
   "execution_count": 5,
   "metadata": {},
   "outputs": [],
   "source": [
    "import torch"
   ]
  },
  {
   "cell_type": "code",
   "execution_count": 12,
   "metadata": {},
   "outputs": [],
   "source": [
    "model = model.eval()\n",
    "\n",
    "with torch.no_grad():\n",
    "    response, history = model.chat(tokenizer, \"把答案简短一点\", history=TESTING_MESSAGES)"
   ]
  },
  {
   "cell_type": "code",
   "execution_count": 13,
   "metadata": {},
   "outputs": [],
   "source": [
    "response, history = model.chat(tokenizer, \"把答案简短一点\", history=TESTING_MESSAGES)"
   ]
  },
  {
   "cell_type": "code",
   "execution_count": 11,
   "metadata": {},
   "outputs": [
    {
     "data": {
      "text/plain": [
       "[{'role': 'user', 'content': '解释一下“温故而知新”'},\n",
       " {'role': 'assistant',\n",
       "  'content': '“温故而知新”是一句源自《论语》的古文名言，其含义是回顾过去以获取新的知识和领悟。这句话鼓励人们在学习和生活中不断地回顾和反思过去的经验，从而发现新的理解和启示。通过这种方式，人们可以不断成长和提高自己，使自己的知识、技能和认识水平得到提升。”'},\n",
       " {'role': 'user', 'content': '把答案简短一点'},\n",
       " {'role': 'user', 'content': '把答案简短一点'},\n",
       " {'role': 'user', 'content': '把答案简短一点'},\n",
       " {'role': 'assistant',\n",
       "  'metadata': '',\n",
       "  'content': '“温故而知新”的意思是回顾过去以获得新的知识和领悟。这句话鼓励人们在学习和生活中不断地回顾和反思过去的经验，从而发现新的理解和启示，使自己的知识、技能和认识水平得到提升。'}]"
      ]
     },
     "execution_count": 11,
     "metadata": {},
     "output_type": "execute_result"
    }
   ],
   "source": [
    "history "
   ]
  },
  {
   "cell_type": "code",
   "execution_count": 8,
   "metadata": {},
   "outputs": [
    {
     "data": {
      "text/plain": [
       "'“温故而知新”是一句古文名言，意为通过回顾过去来获取新的知识和领悟，以促进个人成长和提高。'"
      ]
     },
     "execution_count": 8,
     "metadata": {},
     "output_type": "execute_result"
    }
   ],
   "source": [
    "response"
   ]
  },
  {
   "cell_type": "code",
   "execution_count": 9,
   "metadata": {},
   "outputs": [
    {
     "name": "stdout",
     "output_type": "stream",
     "text": [
      "晚上睡不着可以尝试以下方法：\n",
      "\n",
      "1. 保持冷静：不要焦虑，尝试放松心情，让自己平静下来。\n",
      "\n",
      "2. 改变环境：调整房间的温度、光线和声音，让自己处于一个更舒适的环境中。\n",
      "\n",
      "3. 活动身体：适当的运动有助于放松身心，可以尝试在床上做一些简单的伸展运动。\n",
      "\n",
      "4. 调节饮食：避免在睡前过量进食或饮用咖啡因饮料。\n",
      "\n",
      "5. 放松技巧：尝试采用深呼吸、冥想、渐进性肌肉松弛等放松技巧。\n",
      "\n",
      "6. 限制使用电子设备：睡前避免使用手机、电脑等电子设备，因为它们发出的蓝光可能会干扰你的睡眠。\n",
      "\n",
      "7. 保持规律作息：尽量保持规律的作息时间，每天按时上床睡觉和起床。\n",
      "\n",
      "8. 睡前限制使用尼古丁产品：如果长时间吸烟或使用尼古丁产品，建议在睡前减少或避免使用。\n",
      "\n",
      "尝试以上方法，找到最适合自己的解决办法，帮助你改善睡眠质量。\n"
     ]
    }
   ],
   "source": [
    "response, history = model.chat(tokenizer, \"晚上睡不着应该怎么办\", history=history)\n",
    "print(response)"
   ]
  },
  {
   "cell_type": "code",
   "execution_count": null,
   "metadata": {},
   "outputs": [],
   "source": []
  },
  {
   "cell_type": "code",
   "execution_count": null,
   "metadata": {},
   "outputs": [],
   "source": []
  }
 ],
 "metadata": {
  "kernelspec": {
   "display_name": "base",
   "language": "python",
   "name": "python3"
  },
  "language_info": {
   "codemirror_mode": {
    "name": "ipython",
    "version": 3
   },
   "file_extension": ".py",
   "mimetype": "text/x-python",
   "name": "python",
   "nbconvert_exporter": "python",
   "pygments_lexer": "ipython3",
   "version": "3.11.5"
  }
 },
 "nbformat": 4,
 "nbformat_minor": 2
}
