{
 "cells": [
  {
   "cell_type": "code",
   "execution_count": 1,
   "metadata": {},
   "outputs": [],
   "source": [
    "from transformers import AutoTokenizer, AutoModel\n"
   ]
  },
  {
   "cell_type": "code",
   "execution_count": 2,
   "metadata": {},
   "outputs": [],
   "source": [
    "model_path = \"/mnt/nvme1n1p2/huggingface-models/THUDM/chatglm3-6b\""
   ]
  },
  {
   "cell_type": "code",
   "execution_count": 3,
   "metadata": {},
   "outputs": [
    {
     "data": {
      "application/vnd.jupyter.widget-view+json": {
       "model_id": "f397e5bbb2804d55918e166b14cdfa64",
       "version_major": 2,
       "version_minor": 0
      },
      "text/plain": [
       "Loading checkpoint shards:   0%|          | 0/7 [00:00<?, ?it/s]"
      ]
     },
     "metadata": {},
     "output_type": "display_data"
    }
   ],
   "source": [
    "tokenizer = AutoTokenizer.from_pretrained(model_path, trust_remote_code=True)\n",
    "model = AutoModel.from_pretrained(model_path, trust_remote_code=True).half().cuda()"
   ]
  },
  {
   "cell_type": "code",
   "execution_count": 4,
   "metadata": {},
   "outputs": [],
   "source": [
    "model = model.eval()\n",
    "response, history = model.chat(tokenizer, \"你好\", history=[])"
   ]
  },
  {
   "cell_type": "code",
   "execution_count": 5,
   "metadata": {},
   "outputs": [
    {
     "data": {
      "text/plain": [
       "'你好👋！我是人工智能助手 ChatGLM3-6B，很高兴见到你，欢迎问我任何问题。'"
      ]
     },
     "execution_count": 5,
     "metadata": {},
     "output_type": "execute_result"
    }
   ],
   "source": [
    "response"
   ]
  },
  {
   "cell_type": "code",
   "execution_count": 7,
   "metadata": {},
   "outputs": [
    {
     "name": "stdout",
     "output_type": "stream",
     "text": [
      "晚上睡不着觉可能是由多种原因引起的，例如压力、焦虑、饮食、睡眠环境等。以下是一些建议，可以帮助你更容易入睡：\n",
      "\n",
      "1. 保持规律的作息时间：尽量每天在相同的时间上床睡觉和起床，以帮助建立稳定的生物钟。\n",
      "\n",
      "2. 创造舒适的睡眠环境：保持卧室温度适中、床垫和枕头舒适，并避免在床上使用电子设备。\n",
      "\n",
      "3. 避免过度刺激：在睡前避免咖啡因、尼古丁和酒精的摄入，这些物质可能影响睡眠质量。\n",
      "\n",
      "4. 进行放松活动：在睡前进行一些放松活动，例如瑜伽、深呼吸或冥想，可以帮助你放松身心。\n",
      "\n",
      "5. 限制晚上使用电子设备的时间：过度使用电子设备可能会影响睡眠质量，建议在睡前至少一小时停止使用电子设备。\n",
      "\n",
      "6. 进行适当的白天活动：保持白天有足够的运动量，但避免在睡前进行剧烈运动。\n",
      "\n",
      "7. 避免过度思考：在睡前避免过度思考问题，可以尝试将问题暂时放下，以便更容易入睡。\n",
      "\n",
      "如果以上方法无法帮助你入睡，你可以考虑咨询医生或专业心理医生，以获取更具体的建议和治疗方案。\n"
     ]
    }
   ],
   "source": [
    "response, history = model.chat(tokenizer, \"晚上睡不着应该怎么办\", history=history)\n",
    "print(response)\n"
   ]
  },
  {
   "cell_type": "code",
   "execution_count": null,
   "metadata": {},
   "outputs": [],
   "source": []
  }
 ],
 "metadata": {
  "kernelspec": {
   "display_name": "base",
   "language": "python",
   "name": "python3"
  },
  "language_info": {
   "codemirror_mode": {
    "name": "ipython",
    "version": 3
   },
   "file_extension": ".py",
   "mimetype": "text/x-python",
   "name": "python",
   "nbconvert_exporter": "python",
   "pygments_lexer": "ipython3",
   "version": "3.11.5"
  }
 },
 "nbformat": 4,
 "nbformat_minor": 2
}
