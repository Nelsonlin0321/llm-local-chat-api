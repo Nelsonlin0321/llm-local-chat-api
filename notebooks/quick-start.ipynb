{
 "cells": [
  {
   "cell_type": "code",
   "execution_count": 1,
   "metadata": {},
   "outputs": [],
   "source": [
    "import torch\n",
    "from transformers import AutoModelForCausalLM, AutoTokenizer\n",
    "from transformers.generation.utils import GenerationConfig"
   ]
  },
  {
   "cell_type": "code",
   "execution_count": 2,
   "metadata": {},
   "outputs": [],
   "source": [
    "model_path = \"/mnt/nvme1n1p2/huggingface-models/baichuan-inc-Baichuan2-13B-Chat-4bits\""
   ]
  },
  {
   "cell_type": "code",
   "execution_count": 3,
   "metadata": {},
   "outputs": [],
   "source": [
    "tokenizer = AutoTokenizer.from_pretrained(model_path,\n",
    "    revision=\"v2.0\",\n",
    "    use_fast=False,\n",
    "    trust_remote_code=True)"
   ]
  },
  {
   "cell_type": "code",
   "execution_count": 4,
   "metadata": {},
   "outputs": [
    {
     "name": "stderr",
     "output_type": "stream",
     "text": [
      "Xformers is not installed correctly. If you want to use memory_efficient_attention to accelerate training use the following command to install Xformers\n",
      "pip install xformers.\n"
     ]
    },
    {
     "name": "stderr",
     "output_type": "stream",
     "text": [
      "You are using an old version of the checkpointing format that is deprecated (We will also silently ignore `gradient_checkpointing_kwargs` in case you passed it).Please update to the new format on your modeling file. To use the new format, you need to completely remove the definition of the method `_set_gradient_checkpointing` in your model.\n"
     ]
    }
   ],
   "source": [
    "model = AutoModelForCausalLM.from_pretrained(\n",
    "    model_path,\n",
    "    revision=\"v2.0\",\n",
    "    device_map=\"auto\",\n",
    "    torch_dtype=torch.bfloat16,\n",
    "    trust_remote_code=True,\n",
    "    local_files_only=True)"
   ]
  },
  {
   "cell_type": "code",
   "execution_count": 5,
   "metadata": {},
   "outputs": [],
   "source": [
    "model.generation_config = GenerationConfig.from_pretrained(model_path, revision=\"v2.0\")"
   ]
  },
  {
   "cell_type": "code",
   "execution_count": 6,
   "metadata": {},
   "outputs": [],
   "source": [
    "example = {\"role\": \"user\", \"content\": \"解释一下“温故而知新”\"}"
   ]
  },
  {
   "cell_type": "code",
   "execution_count": 7,
   "metadata": {},
   "outputs": [
    {
     "name": "stdout",
     "output_type": "stream",
     "text": [
      "\"温故而知新\"是一句源自《论语》的古文名言，它意味着通过回顾过去的学习和经验，从而获得新的理解和领悟。这句话鼓励我们在学习过程中不断地回顾和反思，以便更好地理解知识并从中汲取新的启示。\n",
      "\n",
      "\"温故\"指的是回顾过去的知识和经验，这有助于巩固记忆和理解。而\"知新\"则是指在这个过程中发现新的观点和理解，这些新的认识可能会对我们的成长和学习产生积极的影响。\n",
      "\n",
      "总之，\"温故而知新\"是一种有效的学习方法，它强调通过回顾过去来激发新的思考和创新。\n"
     ]
    }
   ],
   "source": [
    "messages = []\n",
    "messages.append(example)\n",
    "response = model.chat(tokenizer, messages)\n",
    "print(response)"
   ]
  },
  {
   "cell_type": "code",
   "execution_count": 8,
   "metadata": {},
   "outputs": [
    {
     "name": "stdout",
     "output_type": "stream",
     "text": [
      "\"温故而知新\"是《论语》中的一句话，意思是通过回顾过去的知识和经验，我们可以得到新的理解和领悟，从而促进学习和成长。\n"
     ]
    }
   ],
   "source": [
    "messages.append({'role':\"assistant\",\"content\":response})\n",
    "messages.append({'role':\"user\",\"content\":\"把答案简短一点\"})\n",
    "response = model.chat(tokenizer, messages)\n",
    "print(response)"
   ]
  },
  {
   "cell_type": "code",
   "execution_count": 10,
   "metadata": {},
   "outputs": [
    {
     "name": "stdout",
     "output_type": "stream",
     "text": [
      "Help on method chat in module transformers_modules.baichuan-inc-Baichuan2-13B-Chat-4bits.modeling_baichuan:\n",
      "\n",
      "chat(tokenizer, messages: List[dict], stream=False, generation_config: Optional[transformers.generation.configuration_utils.GenerationConfig] = None) method of transformers_modules.baichuan-inc-Baichuan2-13B-Chat-4bits.modeling_baichuan.BaichuanForCausalLM instance\n",
      "\n"
     ]
    }
   ],
   "source": [
    "help(model.chat)"
   ]
  },
  {
   "cell_type": "code",
   "execution_count": 2,
   "metadata": {},
   "outputs": [],
   "source": [
    "from uuid import uuid4"
   ]
  },
  {
   "cell_type": "code",
   "execution_count": 4,
   "metadata": {},
   "outputs": [
    {
     "data": {
      "text/plain": [
       "'55d75af6-d9d0-4909-8deb-01007ac35627'"
      ]
     },
     "execution_count": 4,
     "metadata": {},
     "output_type": "execute_result"
    }
   ],
   "source": [
    "str(uuid4())"
   ]
  },
  {
   "cell_type": "code",
   "execution_count": null,
   "metadata": {},
   "outputs": [],
   "source": []
  }
 ],
 "metadata": {
  "kernelspec": {
   "display_name": "llm",
   "language": "python",
   "name": "python3"
  },
  "language_info": {
   "codemirror_mode": {
    "name": "ipython",
    "version": 3
   },
   "file_extension": ".py",
   "mimetype": "text/x-python",
   "name": "python",
   "nbconvert_exporter": "python",
   "pygments_lexer": "ipython3",
   "version": "3.12.1"
  }
 },
 "nbformat": 4,
 "nbformat_minor": 2
}
