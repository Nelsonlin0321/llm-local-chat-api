{
 "cells": [
  {
   "cell_type": "code",
   "execution_count": 1,
   "metadata": {},
   "outputs": [],
   "source": [
    "import sys\n",
    "sys.path.insert(0, \"./../\")"
   ]
  },
  {
   "cell_type": "code",
   "execution_count": 2,
   "metadata": {},
   "outputs": [
    {
     "name": "stderr",
     "output_type": "stream",
     "text": [
      "Xformers is not installed correctly. If you want to use memory_efficient_attention to accelerate training use the following command to install Xformers\n",
      "pip install xformers.\n",
      "You are using an old version of the checkpointing format that is deprecated (We will also silently ignore `gradient_checkpointing_kwargs` in case you passed it).Please update to the new format on your modeling file. To use the new format, you need to completely remove the definition of the method `_set_gradient_checkpointing` in your model.\n"
     ]
    }
   ],
   "source": [
    "from app.routers.rag.chroma_engine import parse_docx"
   ]
  },
  {
   "cell_type": "code",
   "execution_count": 3,
   "metadata": {},
   "outputs": [],
   "source": [
    "from app.routers.rag.embedding import SentencesToEmbeddings"
   ]
  },
  {
   "cell_type": "code",
   "execution_count": 4,
   "metadata": {},
   "outputs": [],
   "source": [
    "# doc_path = \"./../documents/尼得科CT变频器推广使用说明.docx\"\n",
    "file_path = \"./../documents/进、排水管联络.docx\""
   ]
  },
  {
   "cell_type": "code",
   "execution_count": 5,
   "metadata": {},
   "outputs": [],
   "source": [
    "chunks = parse_docx(file_path,sentence_size=128)"
   ]
  },
  {
   "cell_type": "code",
   "execution_count": 6,
   "metadata": {},
   "outputs": [
    {
     "name": "stdout",
     "output_type": "stream",
     "text": [
      "宇宙集团\n",
      "联络单\n",
      "QR.803.02-04(VER:B)                                                      编号：LL-G2303241R8\n"
     ]
    }
   ],
   "source": [
    "print(chunks[0])"
   ]
  },
  {
   "cell_type": "code",
   "execution_count": 7,
   "metadata": {},
   "outputs": [
    {
     "name": "stdout",
     "output_type": "stream",
     "text": [
      "联络单\n",
      "QR.803.02-04(VER:B)                                                      编号：LL-G2303241R8\n",
      "主题  主题        进、排水管联络  进、排水管联络  进、排水管联络  批准\n",
      "版次  发出日期    编制者          类型选择        制品处理        制品处理      厂外旧设计损坏后维修方案\n",
      "R8    2023/12/09  吕文军          改制            改制            按改版后制作\n"
     ]
    }
   ],
   "source": [
    "print(chunks[1])"
   ]
  },
  {
   "cell_type": "code",
   "execution_count": 8,
   "metadata": {},
   "outputs": [],
   "source": [
    "sentences_to_embeddings = SentencesToEmbeddings()"
   ]
  },
  {
   "cell_type": "code",
   "execution_count": 9,
   "metadata": {},
   "outputs": [],
   "source": [
    "from typing import List\n",
    "from transformers import AutoTokenizer, AutoModel\n",
    "import torch"
   ]
  },
  {
   "cell_type": "code",
   "execution_count": 10,
   "metadata": {},
   "outputs": [],
   "source": [
    "class self():\n",
    "    pass"
   ]
  },
  {
   "cell_type": "code",
   "execution_count": 11,
   "metadata": {},
   "outputs": [],
   "source": [
    "model_path='/mnt/nvme1n1p2/huggingface-models/BAAI/bge-large-zh-v1.5'"
   ]
  },
  {
   "cell_type": "code",
   "execution_count": 12,
   "metadata": {},
   "outputs": [],
   "source": [
    "self.device = \"cuda\" if torch.cuda.is_available() else \"cpu\"\n",
    "self.tokenizer = AutoTokenizer.from_pretrained(model_path)\n",
    "self.model = AutoModel.from_pretrained(\n",
    "    model_path).to(self.device)"
   ]
  },
  {
   "cell_type": "code",
   "execution_count": 13,
   "metadata": {},
   "outputs": [],
   "source": [
    "sentences = chunks[:5]"
   ]
  },
  {
   "cell_type": "code",
   "execution_count": 18,
   "metadata": {},
   "outputs": [],
   "source": [
    "encoded_input = self.tokenizer(sentences,\n",
    "                               max_length=512,\n",
    "                               padding=\"max_length\",\n",
    "                            #    truncation=True,\n",
    "                               return_tensors='pt')"
   ]
  },
  {
   "cell_type": "code",
   "execution_count": 19,
   "metadata": {},
   "outputs": [],
   "source": [
    "encoded_input = encoded_input.to(self.device)"
   ]
  },
  {
   "cell_type": "code",
   "execution_count": 20,
   "metadata": {},
   "outputs": [
    {
     "data": {
      "text/plain": [
       "torch.Size([5, 512])"
      ]
     },
     "execution_count": 20,
     "metadata": {},
     "output_type": "execute_result"
    }
   ],
   "source": [
    "encoded_input['input_ids'].shape"
   ]
  },
  {
   "cell_type": "code",
   "execution_count": 21,
   "metadata": {},
   "outputs": [],
   "source": [
    "with torch.no_grad():\n",
    "    model_output = self.model(**encoded_input)"
   ]
  },
  {
   "cell_type": "code",
   "execution_count": 23,
   "metadata": {},
   "outputs": [
    {
     "data": {
      "text/plain": [
       "BaseModelOutputWithPoolingAndCrossAttentions(last_hidden_state=tensor([[[ 4.3071e-01,  6.9041e-01, -9.5555e-01,  ..., -7.0385e-01,\n",
       "           3.5846e-02, -5.2903e-01],\n",
       "         [ 3.0192e-01,  2.8356e-01,  8.4345e-02,  ..., -6.8615e-01,\n",
       "          -4.6864e-01, -7.8473e-01],\n",
       "         [ 2.4655e-01,  3.4340e-01,  1.8193e-01,  ..., -6.0255e-01,\n",
       "          -5.1152e-01, -6.6685e-01],\n",
       "         ...,\n",
       "         [ 4.6316e-01,  4.1603e-01, -4.9321e-01,  ..., -3.6677e-01,\n",
       "          -1.3288e-01, -5.9994e-01],\n",
       "         [ 4.6364e-01,  3.9987e-01, -5.3334e-01,  ..., -3.9922e-01,\n",
       "          -6.3909e-02, -5.7746e-01],\n",
       "         [ 5.8816e-01,  3.8769e-01, -4.2587e-01,  ..., -1.9470e-01,\n",
       "          -7.9170e-02, -4.6805e-01]],\n",
       "\n",
       "        [[ 2.5239e-01,  4.5705e-01, -3.1215e-01,  ..., -4.1255e-01,\n",
       "          -4.5808e-01, -7.6593e-01],\n",
       "         [ 7.3236e-01,  4.9639e-01,  6.8359e-02,  ..., -7.2718e-02,\n",
       "          -3.1755e-01, -1.2631e+00],\n",
       "         [ 1.1418e+00,  1.9746e-01, -1.0685e-01,  ..., -1.8854e-01,\n",
       "          -5.5004e-01, -9.5660e-01],\n",
       "         ...,\n",
       "         [ 6.1261e-01,  5.5193e-01,  1.1063e-01,  ...,  6.0281e-02,\n",
       "          -6.7433e-01, -1.1664e+00],\n",
       "         [ 5.8630e-01,  4.7053e-01,  1.6321e-01,  ...,  1.2777e-03,\n",
       "          -4.8595e-01, -1.1001e+00],\n",
       "         [ 6.8160e-01,  3.5357e-01,  2.8002e-01,  ..., -2.6441e-02,\n",
       "          -2.4813e-01, -1.0827e+00]],\n",
       "\n",
       "        [[ 3.3155e-01,  3.3227e-01, -7.6286e-01,  ..., -1.1250e-01,\n",
       "          -9.5168e-01, -2.4216e-01],\n",
       "         [ 4.9309e-01,  3.5638e-01, -5.8982e-02,  ..., -3.1540e-01,\n",
       "          -1.4505e+00, -1.4600e+00],\n",
       "         [ 7.5747e-01,  2.2971e-01, -2.9128e-01,  ...,  1.3040e-01,\n",
       "          -7.9777e-01, -1.2045e+00],\n",
       "         ...,\n",
       "         [ 7.1867e-01,  6.4907e-01, -3.4885e-01,  ..., -2.6562e-01,\n",
       "          -1.0106e+00, -3.6300e-01],\n",
       "         [ 7.3319e-01,  7.5916e-01, -4.1478e-01,  ..., -4.8467e-02,\n",
       "          -9.0239e-01, -2.5334e-01],\n",
       "         [ 5.1255e-01,  4.7743e-01, -1.9777e-01,  ...,  2.4297e-02,\n",
       "          -8.3897e-01, -7.0449e-01]],\n",
       "\n",
       "        [[ 4.6865e-01,  1.7097e-01, -5.2737e-01,  ..., -5.2928e-01,\n",
       "          -7.9672e-01, -2.7939e-01],\n",
       "         [ 3.3594e-01,  6.3430e-01, -2.0857e-01,  ..., -6.4841e-01,\n",
       "          -7.5846e-01, -9.5238e-01],\n",
       "         [ 3.7344e-01,  6.5786e-01, -1.8712e-01,  ..., -3.5865e-01,\n",
       "          -7.5847e-01, -1.2404e+00],\n",
       "         ...,\n",
       "         [ 6.8460e-01,  6.2844e-01, -1.7629e-01,  ..., -3.3364e-01,\n",
       "          -6.4020e-01, -4.4464e-01],\n",
       "         [ 7.0470e-01,  6.4763e-01, -1.5526e-01,  ..., -4.8103e-01,\n",
       "          -5.7179e-01, -4.0690e-01],\n",
       "         [ 9.4572e-01,  6.6744e-01, -2.9482e-01,  ..., -4.2071e-01,\n",
       "          -6.7258e-01, -4.0389e-01]],\n",
       "\n",
       "        [[-3.2996e-02,  2.0006e-01,  1.4346e-02,  ..., -3.1549e-01,\n",
       "          -3.7040e-01, -3.8722e-01],\n",
       "         [ 2.5160e-01,  3.1254e-01,  3.9289e-02,  ..., -4.2940e-01,\n",
       "          -1.0922e+00, -9.9095e-01],\n",
       "         [ 1.6314e-01,  2.8751e-01,  6.6609e-02,  ..., -3.3027e-01,\n",
       "          -1.1362e+00, -1.2140e+00],\n",
       "         ...,\n",
       "         [ 3.3921e-01,  3.5220e-01,  3.2726e-01,  ..., -5.8634e-01,\n",
       "          -1.0506e+00, -8.1500e-01],\n",
       "         [ 3.5218e-01,  3.8333e-01,  3.5093e-01,  ..., -5.6177e-01,\n",
       "          -1.0120e+00, -8.3862e-01],\n",
       "         [ 4.9503e-01,  4.1000e-01,  1.2828e-01,  ..., -4.3655e-01,\n",
       "          -1.1754e+00, -8.7549e-01]]], device='cuda:0'), pooler_output=tensor([[ 0.5819,  0.4072, -0.4411,  ...,  0.4795, -0.0807,  0.0589],\n",
       "        [ 0.2647,  0.2569, -0.2254,  ...,  0.0833,  0.4407, -0.3807],\n",
       "        [ 0.5218,  0.1687, -0.1011,  ...,  0.2128,  0.7299, -0.4355],\n",
       "        [ 0.5412,  0.3332, -0.0838,  ...,  0.2443,  0.6962, -0.4462],\n",
       "        [ 0.5233,  0.3617, -0.1398,  ...,  0.1843,  0.5133, -0.4078]],\n",
       "       device='cuda:0'), hidden_states=None, past_key_values=None, attentions=None, cross_attentions=None)"
      ]
     },
     "execution_count": 23,
     "metadata": {},
     "output_type": "execute_result"
    }
   ],
   "source": [
    "model_output"
   ]
  },
  {
   "cell_type": "code",
   "execution_count": null,
   "metadata": {},
   "outputs": [],
   "source": []
  }
 ],
 "metadata": {
  "kernelspec": {
   "display_name": "llm",
   "language": "python",
   "name": "python3"
  },
  "language_info": {
   "codemirror_mode": {
    "name": "ipython",
    "version": 3
   },
   "file_extension": ".py",
   "mimetype": "text/x-python",
   "name": "python",
   "nbconvert_exporter": "python",
   "pygments_lexer": "ipython3",
   "version": "3.12.1"
  }
 },
 "nbformat": 4,
 "nbformat_minor": 2
}
